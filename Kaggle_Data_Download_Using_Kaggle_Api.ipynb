{
  "nbformat": 4,
  "nbformat_minor": 0,
  "metadata": {
    "colab": {
      "name": "Kaggle_Data_Download_Using_Kaggle_Api.ipynb",
      "provenance": [],
      "collapsed_sections": [],
      "include_colab_link": true
    },
    "kernelspec": {
      "name": "python3",
      "display_name": "Python 3"
    }
  },
  "cells": [
    {
      "cell_type": "markdown",
      "metadata": {
        "id": "view-in-github",
        "colab_type": "text"
      },
      "source": [
        "<a href=\"https://colab.research.google.com/github/harshita23sharma/Colab_Notebooks/blob/master/Kaggle_Data_Download_Using_Kaggle_Api.ipynb\" target=\"_parent\"><img src=\"https://colab.research.google.com/assets/colab-badge.svg\" alt=\"Open In Colab\"/></a>"
      ]
    },
    {
      "cell_type": "code",
      "metadata": {
        "id": "Cf0EfvI0QUK_",
        "colab_type": "code",
        "colab": {}
      },
      "source": [
        "from google.colab import files\n",
        "files.upload()"
      ],
      "execution_count": 0,
      "outputs": []
    },
    {
      "cell_type": "code",
      "metadata": {
        "id": "SLsbMqMIGdKf",
        "colab_type": "code",
        "colab": {}
      },
      "source": [
        "!mkdir /content/.kaggle\n",
        "!mv /content/kaggle.json /content/.kaggle/"
      ],
      "execution_count": 0,
      "outputs": []
    },
    {
      "cell_type": "code",
      "metadata": {
        "id": "qCzwbw24ICAC",
        "colab_type": "code",
        "colab": {
          "base_uri": "https://localhost:8080/",
          "height": 34
        },
        "outputId": "e9229eac-79eb-4ff5-b918-a311a2281ca9"
      },
      "source": [
        "!ls /content/.kaggle/kaggle.json"
      ],
      "execution_count": 3,
      "outputs": [
        {
          "output_type": "stream",
          "text": [
            "/content/.kaggle/kaggle.json\n"
          ],
          "name": "stdout"
        }
      ]
    },
    {
      "cell_type": "code",
      "metadata": {
        "id": "gDzDlMsgIRmX",
        "colab_type": "code",
        "colab": {}
      },
      "source": [
        "!mkdir /content/kaggle\n",
        "! ls /content/kaggle/"
      ],
      "execution_count": 0,
      "outputs": []
    },
    {
      "cell_type": "code",
      "metadata": {
        "id": "f2kbuIxqIZlE",
        "colab_type": "code",
        "colab": {}
      },
      "source": [
        "!mkdir /content/kaggle/competitions/\n",
        "! ls /content/kaggle/competitions/"
      ],
      "execution_count": 0,
      "outputs": []
    },
    {
      "cell_type": "code",
      "metadata": {
        "id": "BxA6GJl-Qv-8",
        "colab_type": "code",
        "colab": {
          "base_uri": "https://localhost:8080/",
          "height": 34
        },
        "outputId": "9c911273-2ab8-4c5c-97f8-c2379bb365a9"
      },
      "source": [
        "!mkdir -p ~/.kaggle\n",
        "!cp kaggle.json ~/.kaggle/"
      ],
      "execution_count": 6,
      "outputs": [
        {
          "output_type": "stream",
          "text": [
            "cp: cannot stat 'kaggle.json': No such file or directory\n"
          ],
          "name": "stdout"
        }
      ]
    },
    {
      "cell_type": "code",
      "metadata": {
        "id": "NqbGgzlyBlxi",
        "colab_type": "code",
        "colab": {}
      },
      "source": [
        "# # !mkdir -p kaggle/\n",
        "# ! cd ~/.kaggle; kaggle competitions download -c severstal-steel-defect-detection"
      ],
      "execution_count": 0,
      "outputs": []
    },
    {
      "cell_type": "code",
      "metadata": {
        "id": "IV5wWm69IrHV",
        "colab_type": "code",
        "colab": {}
      },
      "source": [
        "# !cp kaggle.json /content/"
      ],
      "execution_count": 0,
      "outputs": []
    },
    {
      "cell_type": "code",
      "metadata": {
        "id": "9WPc9ndjJzjG",
        "colab_type": "code",
        "colab": {
          "base_uri": "https://localhost:8080/",
          "height": 34
        },
        "outputId": "a0ae2aaf-9762-4c1e-d351-6880cb5bf65c"
      },
      "source": [
        "!mkdir ~/.kaggle\n",
        "!cp /content/.kaggle/kaggle.json ~/.kaggle/kaggle.json"
      ],
      "execution_count": 9,
      "outputs": [
        {
          "output_type": "stream",
          "text": [
            "mkdir: cannot create directory ‘/root/.kaggle’: File exists\n"
          ],
          "name": "stdout"
        }
      ]
    },
    {
      "cell_type": "markdown",
      "metadata": {
        "id": "K1Za7FYZCTeI",
        "colab_type": "text"
      },
      "source": [
        "### Ref of Using kaggle Api to download aggle competetion data : https://www.kaggle.com/c/severstal-steel-defect-detection/discussion/105607"
      ]
    },
    {
      "cell_type": "code",
      "metadata": {
        "id": "BhXxEQ8AR6Vo",
        "colab_type": "code",
        "colab": {
          "base_uri": "https://localhost:8080/",
          "height": 578
        },
        "outputId": "588b78c7-8c8f-411c-ff01-f2710e41a282"
      },
      "source": [
        "# Info on how to get your api key (kaggle.json) here: https://github.com/Kaggle/kaggle-api#api-credentials\n",
        "!pip install kaggle\n",
        "api_token = {\"username\":\"USERNAME\",\"key\":\"API_KEY\"}\n",
        "\n",
        "import json\n",
        "import zipfile\n",
        "import os\n",
        "with open('/content/.kaggle/kaggle.json', 'w') as file:\n",
        "    json.dump(api_token, file)\n",
        "!chmod 600 /content/.kaggle/kaggle.json\n",
        "!kaggle config path -p /content\n",
        "\n",
        "dataset_dir = '/content/kaggle/competitions/severstal-steel-defect-detection'\n",
        "os.mkdir(dataset_dir)\n",
        "os.chdir(dataset_dir)\n",
        "!kaggle competitions download -c severstal-steel-defect-detection\n",
        "\n",
        "print(\"file in dir:\",dataset_dir,\" : \")\n",
        "for file in os.listdir():\n",
        "  print(file)\n",
        "#   try:\n",
        "#     zip_ref = zipfile.ZipFile(file, 'r')\n",
        "#     zip_ref.extractall()\n",
        "#     zip_ref.close()\n",
        "#   except:\n",
        "#     continue"
      ],
      "execution_count": 10,
      "outputs": [
        {
          "output_type": "stream",
          "text": [
            "Requirement already satisfied: kaggle in /usr/local/lib/python3.6/dist-packages (1.5.6)\n",
            "Requirement already satisfied: certifi in /usr/local/lib/python3.6/dist-packages (from kaggle) (2019.9.11)\n",
            "Requirement already satisfied: urllib3<1.25,>=1.21.1 in /usr/local/lib/python3.6/dist-packages (from kaggle) (1.24.3)\n",
            "Requirement already satisfied: tqdm in /usr/local/lib/python3.6/dist-packages (from kaggle) (4.28.1)\n",
            "Requirement already satisfied: six>=1.10 in /usr/local/lib/python3.6/dist-packages (from kaggle) (1.12.0)\n",
            "Requirement already satisfied: requests in /usr/local/lib/python3.6/dist-packages (from kaggle) (2.21.0)\n",
            "Requirement already satisfied: python-dateutil in /usr/local/lib/python3.6/dist-packages (from kaggle) (2.5.3)\n",
            "Requirement already satisfied: python-slugify in /usr/local/lib/python3.6/dist-packages (from kaggle) (3.0.6)\n",
            "Requirement already satisfied: chardet<3.1.0,>=3.0.2 in /usr/local/lib/python3.6/dist-packages (from requests->kaggle) (3.0.4)\n",
            "Requirement already satisfied: idna<2.9,>=2.5 in /usr/local/lib/python3.6/dist-packages (from requests->kaggle) (2.8)\n",
            "Requirement already satisfied: text-unidecode>=1.3 in /usr/local/lib/python3.6/dist-packages (from python-slugify->kaggle) (1.3)\n",
            "Warning: Your Kaggle API key is readable by other users on this system! To fix this, you can run 'chmod 600 /root/.kaggle/kaggle.json'\n",
            "usage: kaggle config [-h] {view,set,unset} ...\n",
            "kaggle config: error: argument command: invalid choice: 'path' (choose from 'view', 'set', 'unset')\n",
            "Warning: Your Kaggle API key is readable by other users on this system! To fix this, you can run 'chmod 600 /root/.kaggle/kaggle.json'\n",
            "Warning: Looks like you're using an outdated API Version, please consider updating (server 1.5.6 / client 1.5.4)\n",
            "Downloading train.csv.zip to /content/kaggle/competitions/severstal-steel-defect-detection\n",
            " 72% 5.00M/6.91M [00:00<00:00, 17.9MB/s]\n",
            "100% 6.91M/6.91M [00:00<00:00, 23.0MB/s]\n",
            "Downloading sample_submission.csv to /content/kaggle/competitions/severstal-steel-defect-detection\n",
            "  0% 0.00/141k [00:00<?, ?B/s]\n",
            "100% 141k/141k [00:00<00:00, 146MB/s]\n",
            "Downloading train_images.zip to /content/kaggle/competitions/severstal-steel-defect-detection\n",
            " 99% 1.15G/1.16G [00:17<00:00, 42.1MB/s]\n",
            "100% 1.16G/1.16G [00:17<00:00, 70.8MB/s]\n",
            "Downloading test_images.zip to /content/kaggle/competitions/severstal-steel-defect-detection\n",
            " 84% 108M/129M [00:01<00:00, 56.2MB/s] \n",
            "100% 129M/129M [00:01<00:00, 82.8MB/s]\n",
            "file in dir: /content/kaggle/competitions/severstal-steel-defect-detection  : \n",
            "train.csv.zip\n",
            "sample_submission.csv\n",
            "train_images.zip\n",
            "test_images.zip\n"
          ],
          "name": "stdout"
        }
      ]
    },
    {
      "cell_type": "code",
      "metadata": {
        "id": "HEKMy3i1Ok03",
        "colab_type": "code",
        "colab": {
          "base_uri": "https://localhost:8080/",
          "height": 34
        },
        "outputId": "488361d1-8b2e-4d26-f2e1-98d0120261e9"
      },
      "source": [
        "!ls /content/kaggle/competitions/severstal-steel-defect-detection"
      ],
      "execution_count": 12,
      "outputs": [
        {
          "output_type": "stream",
          "text": [
            "sample_submission.csv  test_images.zip\ttrain.csv.zip  train_images.zip\n"
          ],
          "name": "stdout"
        }
      ]
    },
    {
      "cell_type": "code",
      "metadata": {
        "id": "GlsJsuAfOu3P",
        "colab_type": "code",
        "colab": {
          "base_uri": "https://localhost:8080/",
          "height": 34
        },
        "outputId": "18a47eda-3565-40a1-a1c6-85cbabc5e169"
      },
      "source": [
        "!pwd"
      ],
      "execution_count": 13,
      "outputs": [
        {
          "output_type": "stream",
          "text": [
            "/content/kaggle/competitions/severstal-steel-defect-detection\n"
          ],
          "name": "stdout"
        }
      ]
    }
  ]
}